{
 "cells": [
  {
   "cell_type": "markdown",
   "metadata": {
    "application/vnd.databricks.v1+cell": {
     "cellMetadata": {
      "byteLimit": 2048000,
      "rowLimit": 10000
     },
     "inputWidgets": {},
     "nuid": "0dc1ec8d-2229-4d85-9fae-3671156d26b1",
     "showTitle": false,
     "tableResultSettingsMap": {},
     "title": ""
    }
   },
   "source": [
    "PART 1 : STREAMING DATA HANDLING"
   ]
  },
  {
   "cell_type": "code",
   "execution_count": 0,
   "metadata": {
    "application/vnd.databricks.v1+cell": {
     "cellMetadata": {
      "byteLimit": 2048000,
      "rowLimit": 10000
     },
     "inputWidgets": {},
     "nuid": "b21667eb-91bd-4783-b29f-82761073878f",
     "showTitle": false,
     "tableResultSettingsMap": {},
     "title": ""
    }
   },
   "outputs": [],
   "source": [
    "dbutils.notebook.exit(\"Reset Notebook\")\n"
   ]
  },
  {
   "cell_type": "code",
   "execution_count": 0,
   "metadata": {
    "application/vnd.databricks.v1+cell": {
     "cellMetadata": {
      "byteLimit": 2048000,
      "rowLimit": 10000
     },
     "inputWidgets": {},
     "nuid": "1332e363-f445-49b7-9f82-fde172a78e91",
     "showTitle": false,
     "tableResultSettingsMap": {},
     "title": ""
    }
   },
   "outputs": [],
   "source": [
    "%reset -f\n"
   ]
  },
  {
   "cell_type": "code",
   "execution_count": 0,
   "metadata": {
    "application/vnd.databricks.v1+cell": {
     "cellMetadata": {
      "byteLimit": 2048000,
      "rowLimit": 10000
     },
     "inputWidgets": {},
     "nuid": "5625d09e-f3e2-4083-a4f1-c16e277e4d0d",
     "showTitle": false,
     "tableResultSettingsMap": {},
     "title": ""
    }
   },
   "outputs": [],
   "source": [
    "from pyspark.sql.functions import col\n",
    "\n",
    "\n",
    "#read permanant table created as streaming data \n",
    "#streaming_df = spark.readStream.table(\"synthetic_fraud_data_parquet\")  \n",
    "\n",
    "##spark.read.table(\"\") for batch processing\n"
   ]
  },
  {
   "cell_type": "code",
   "execution_count": 0,
   "metadata": {
    "application/vnd.databricks.v1+cell": {
     "cellMetadata": {
      "byteLimit": 2048000,
      "rowLimit": 10000
     },
     "inputWidgets": {},
     "nuid": "a9fb4312-b373-4044-a454-0ba0a2ed9b08",
     "showTitle": false,
     "tableResultSettingsMap": {},
     "title": ""
    }
   },
   "outputs": [],
   "source": [
    "from pyspark.sql import SparkSession\n",
    "\n",
    "# create spark session\n",
    "spark = SparkSession.builder.appName(\"FraudDetection\").getOrCreate()\n"
   ]
  },
  {
   "cell_type": "code",
   "execution_count": 0,
   "metadata": {
    "application/vnd.databricks.v1+cell": {
     "cellMetadata": {
      "byteLimit": 2048000,
      "rowLimit": 10000
     },
     "inputWidgets": {},
     "nuid": "5d225055-c98b-4eb0-a731-cd3b9838db90",
     "showTitle": false,
     "tableResultSettingsMap": {},
     "title": ""
    }
   },
   "outputs": [],
   "source": [
    "#read permanant table created as batch data \n",
    "table_df = spark.read.table(\"synthetic_fraud_data_parquet\")\n",
    "\n",
    "# cast 'card_number' to string\n",
    "table_df = table_df.withColumn(\"card_number\", col(\"card_number\").cast(\"string\"))\n",
    "\n",
    "\n",
    "# write the data to a directory, overwrite if necessary for repeated execution\n",
    "table_df.write.mode(\"overwrite\").format(\"parquet\").save(\"/FileStore/tables/streaming_ready_data\")\n",
    "\n"
   ]
  },
  {
   "cell_type": "code",
   "execution_count": 0,
   "metadata": {
    "application/vnd.databricks.v1+cell": {
     "cellMetadata": {
      "byteLimit": 2048000,
      "rowLimit": 10000
     },
     "inputWidgets": {},
     "nuid": "f5894eec-ecd6-4ad6-abdd-d3f6edbce7ed",
     "showTitle": false,
     "tableResultSettingsMap": {},
     "title": ""
    }
   },
   "outputs": [],
   "source": [
    "# drop ID column\n",
    "columns_to_keep = [col for col in table_df.columns if col != \"transaction_id\"]\n",
    "df_cleaned = table_df.select(*columns_to_keep)\n"
   ]
  },
  {
   "cell_type": "code",
   "execution_count": 0,
   "metadata": {
    "application/vnd.databricks.v1+cell": {
     "cellMetadata": {
      "byteLimit": 2048000,
      "rowLimit": 10000
     },
     "inputWidgets": {},
     "nuid": "5b532c9c-a0d1-4f10-812c-f27f92d88efe",
     "showTitle": false,
     "tableResultSettingsMap": {},
     "title": ""
    }
   },
   "outputs": [
    {
     "name": "stdout",
     "output_type": "stream",
     "text": [
      "Out[7]: DataFrame[customer_id: string, card_number: string, timestamp: string, merchant_category: string, merchant_type: string, merchant: string, amount: double, currency: string, country: string, city: string, city_size: string, card_type: string, card_present: boolean, device: string, channel: string, device_fingerprint: string, ip_address: string, distance_from_home: bigint, high_risk_merchant: boolean, transaction_hour: bigint, weekend_transaction: boolean, velocity_last_hour: string, is_fraud: boolean]"
     ]
    }
   ],
   "source": [
    "df_cleaned.cache()\n"
   ]
  },
  {
   "cell_type": "code",
   "execution_count": 0,
   "metadata": {
    "application/vnd.databricks.v1+cell": {
     "cellMetadata": {
      "byteLimit": 2048000,
      "rowLimit": 10000
     },
     "inputWidgets": {},
     "nuid": "41fe4cff-b516-43b4-a810-5eb26669eccb",
     "showTitle": false,
     "tableResultSettingsMap": {},
     "title": ""
    }
   },
   "outputs": [],
   "source": [
    "# filter only fraudulent transactions\n",
    "#df_fraud = df_cleaned.filter(col(\"is_fraud\") == 1)\n",
    "#commented for ml training detection for further use\n"
   ]
  },
  {
   "cell_type": "code",
   "execution_count": 0,
   "metadata": {
    "application/vnd.databricks.v1+cell": {
     "cellMetadata": {
      "byteLimit": 2048000,
      "rowLimit": 10000
     },
     "inputWidgets": {},
     "nuid": "37f7bc51-16b3-492a-b58e-3236a321e6a1",
     "showTitle": false,
     "tableResultSettingsMap": {},
     "title": ""
    }
   },
   "outputs": [],
   "source": [
    "df_cleaned.write.mode(\"overwrite\").format(\"parquet\").save(\"/FileStore/tables/streaming_ready_data\")\n"
   ]
  },
  {
   "cell_type": "code",
   "execution_count": 0,
   "metadata": {
    "application/vnd.databricks.v1+cell": {
     "cellMetadata": {
      "byteLimit": 2048000,
      "rowLimit": 10000
     },
     "inputWidgets": {},
     "nuid": "4ae3bf81-b6bb-4415-88f8-ae0aca1b62b5",
     "showTitle": false,
     "tableResultSettingsMap": {},
     "title": ""
    }
   },
   "outputs": [
    {
     "name": "stdout",
     "output_type": "stream",
     "text": [
      "root\n",
      " |-- customer_id: string (nullable = true)\n",
      " |-- card_number: string (nullable = true)\n",
      " |-- timestamp: string (nullable = true)\n",
      " |-- merchant_category: string (nullable = true)\n",
      " |-- merchant_type: string (nullable = true)\n",
      " |-- merchant: string (nullable = true)\n",
      " |-- amount: double (nullable = true)\n",
      " |-- currency: string (nullable = true)\n",
      " |-- country: string (nullable = true)\n",
      " |-- city: string (nullable = true)\n",
      " |-- city_size: string (nullable = true)\n",
      " |-- card_type: string (nullable = true)\n",
      " |-- card_present: boolean (nullable = true)\n",
      " |-- device: string (nullable = true)\n",
      " |-- channel: string (nullable = true)\n",
      " |-- device_fingerprint: string (nullable = true)\n",
      " |-- ip_address: string (nullable = true)\n",
      " |-- distance_from_home: long (nullable = true)\n",
      " |-- high_risk_merchant: boolean (nullable = true)\n",
      " |-- transaction_hour: long (nullable = true)\n",
      " |-- weekend_transaction: boolean (nullable = true)\n",
      " |-- velocity_last_hour: string (nullable = true)\n",
      " |-- is_fraud: boolean (nullable = true)\n",
      "\n"
     ]
    }
   ],
   "source": [
    "# read the Parquet file as a batch\n",
    "corrected_df = spark.read.format(\"parquet\").load(\"/FileStore/tables/streaming_ready_data\")\n",
    "\n",
    "# print the schema to confirm 'card_number' is StringType\n",
    "corrected_df.printSchema()\n"
   ]
  },
  {
   "cell_type": "code",
   "execution_count": 0,
   "metadata": {
    "application/vnd.databricks.v1+cell": {
     "cellMetadata": {
      "byteLimit": 2048000,
      "rowLimit": 10000
     },
     "inputWidgets": {},
     "nuid": "81abbbeb-d43e-4720-9dd2-ba60e8e5fe90",
     "showTitle": false,
     "tableResultSettingsMap": {},
     "title": ""
    }
   },
   "outputs": [],
   "source": [
    "from pyspark.sql.types import StructType, StructField, StringType, DoubleType, BooleanType, LongType\n",
    "# define the schema for the data\n",
    "# done to specify schema for testing streaming data processing with a static dataset , else throwing error for undefined schema for readsteam\n",
    "schema = StructType([\n",
    "    StructField(\"customer_id\", StringType(), True),\n",
    "    StructField(\"card_number\", StringType(), True),\n",
    "    StructField(\"timestamp\", StringType(), True),\n",
    "    StructField(\"merchant_category\", StringType(), True),\n",
    "    StructField(\"merchant_type\", StringType(), True),\n",
    "    StructField(\"merchant\", StringType(), True),\n",
    "    StructField(\"amount\", DoubleType(), True),\n",
    "    StructField(\"currency\", StringType(), True),\n",
    "    StructField(\"country\", StringType(), True),\n",
    "    StructField(\"city\", StringType(), True),\n",
    "    StructField(\"city_size\", StringType(), True),\n",
    "    StructField(\"card_type\", StringType(), True),\n",
    "    StructField(\"card_present\", BooleanType(), True),  # Match BOOLEAN\n",
    "    StructField(\"device\", StringType(), True),\n",
    "    StructField(\"channel\", StringType(), True),\n",
    "    StructField(\"device_fingerprint\", StringType(), True),\n",
    "    StructField(\"ip_address\", StringType(), True),\n",
    "    StructField(\"distance_from_home\", LongType(), True),  # Match LONG\n",
    "    StructField(\"high_risk_merchant\", BooleanType(), True),  # Match BOOLEAN\n",
    "    StructField(\"transaction_hour\", LongType(), True),  # Match LONG\n",
    "    StructField(\"weekend_transaction\", BooleanType(), True),  # Match BOOLEAN\n",
    "    StructField(\"velocity_last_hour\", StringType(), True),\n",
    "    StructField(\"is_fraud\", BooleanType(), True)  # Match BOOLEAN\n",
    "])\n"
   ]
  },
  {
   "cell_type": "code",
   "execution_count": 0,
   "metadata": {
    "application/vnd.databricks.v1+cell": {
     "cellMetadata": {
      "byteLimit": 2048000,
      "rowLimit": 10000
     },
     "inputWidgets": {},
     "nuid": "3195ba60-19b0-4a7c-91ba-e045a105b023",
     "showTitle": false,
     "tableResultSettingsMap": {},
     "title": ""
    }
   },
   "outputs": [
    {
     "data": {
      "text/html": [
       "<style scoped>\n",
       "  .ansiout {\n",
       "    display: block;\n",
       "    unicode-bidi: embed;\n",
       "    white-space: pre-wrap;\n",
       "    word-wrap: break-word;\n",
       "    word-break: break-all;\n",
       "    font-family: \"Menlo\", \"Monaco\", \"Consolas\", \"Ubuntu Mono\", \"Source Code Pro\", monospace;\n",
       "    font-size: 13px;\n",
       "    color: #555;\n",
       "    margin-left: 4px;\n",
       "    line-height: 19px;\n",
       "  }\n",
       "</style>"
      ]
     },
     "metadata": {
      "application/vnd.databricks.v1+output": {
       "arguments": {},
       "data": "",
       "errorSummary": "Cancelled",
       "errorTraceType": "html",
       "metadata": {},
       "type": "ipynbError"
      }
     },
     "output_type": "display_data"
    }
   ],
   "source": [
    "# read the streaming-ready data\n",
    "streaming_df = spark.readStream \\\n",
    "    .schema(schema) \\\n",
    "    .format(\"parquet\") \\\n",
    "    .load(\"/FileStore/tables/streaming_ready_data\")\n",
    "\n",
    "# write the streaming output to the console\n",
    "#this is supposed to run indefinitely in production\n",
    "small_streaming_df = streaming_df.limit(5000)\n",
    "#does not stop processing after 5000, instead each batch is of size 5000\n",
    "query = small_streaming_df.writeStream \\\n",
    "    .outputMode(\"append\") \\\n",
    "    .format(\"console\") \\\n",
    "    .start()\n",
    "query.awaitTermination()\n",
    "#limit set for databricks community edition\n",
    "\n",
    "\n",
    "from threading import Timer\n",
    "\n",
    "# set a timeout to stop the query\n",
    "def stop_query():\n",
    "    query.stop()\n",
    "\n",
    "Timer(900, stop_query).start()  # stop after 10 seconds\n",
    "query.awaitTermination()\n",
    "\n"
   ]
  },
  {
   "cell_type": "code",
   "execution_count": 0,
   "metadata": {
    "application/vnd.databricks.v1+cell": {
     "cellMetadata": {
      "byteLimit": 2048000,
      "rowLimit": 10000
     },
     "inputWidgets": {},
     "nuid": "0c67acbc-82fd-4392-a776-1c565cfa2be6",
     "showTitle": false,
     "tableResultSettingsMap": {},
     "title": ""
    }
   },
   "outputs": [],
   "source": [
    "query.stop()\n"
   ]
  },
  {
   "cell_type": "markdown",
   "metadata": {
    "application/vnd.databricks.v1+cell": {
     "cellMetadata": {
      "byteLimit": 2048000,
      "rowLimit": 10000
     },
     "inputWidgets": {},
     "nuid": "48fb19ba-24bd-4848-ae5a-41c8a737791b",
     "showTitle": false,
     "tableResultSettingsMap": {},
     "title": ""
    }
   },
   "source": [
    "END OF STREAMING DATA HANDLING"
   ]
  },
  {
   "cell_type": "markdown",
   "metadata": {
    "application/vnd.databricks.v1+cell": {
     "cellMetadata": {
      "byteLimit": 2048000,
      "rowLimit": 10000
     },
     "inputWidgets": {},
     "nuid": "ca2d9b8c-59c6-41a8-bda4-26fe4cfc872f",
     "showTitle": false,
     "tableResultSettingsMap": {},
     "title": ""
    }
   },
   "source": [
    "PART 2: DATA ANALYSIS, TREATING STREAMING READY DATA AS BATCH"
   ]
  },
  {
   "cell_type": "code",
   "execution_count": 0,
   "metadata": {
    "application/vnd.databricks.v1+cell": {
     "cellMetadata": {
      "byteLimit": 2048000,
      "rowLimit": 10000
     },
     "inputWidgets": {},
     "nuid": "86e9d652-1caf-43ac-a688-ac3a586a9845",
     "showTitle": false,
     "tableResultSettingsMap": {},
     "title": ""
    }
   },
   "outputs": [
    {
     "name": "stdout",
     "output_type": "stream",
     "text": [
      "+-----------+----------------+--------------------+-----------------+-------------+------------+---------+--------+-------+------------+---------+-------------+------------+-----------+-------+--------------------+---------------+------------------+------------------+----------------+-------------------+--------------------+--------+\n",
      "|customer_id|     card_number|           timestamp|merchant_category|merchant_type|    merchant|   amount|currency|country|        city|city_size|    card_type|card_present|     device|channel|  device_fingerprint|     ip_address|distance_from_home|high_risk_merchant|transaction_hour|weekend_transaction|  velocity_last_hour|is_fraud|\n",
      "+-----------+----------------+--------------------+-----------------+-------------+------------+---------+--------+-------+------------+---------+-------------+------------+-----------+-------+--------------------+---------------+------------------+------------------+----------------+-------------------+--------------------+--------+\n",
      "| CUST_57883|6117860493072734|2024-10-26 02:01:...|       Restaurant|    fast_food|     Wendy's| 13946.09|     NGN|Nigeria|Unknown City|   medium|  Basic Debit|       false|    Firefox|    web|4123351f25f4d0ff7...|    44.80.0.137|                 1|             false|               2|               true|{'num_transaction...|    true|\n",
      "| CUST_26453| 370797418011493|2024-10-26 02:01:...|           Retail|     physical|      Macy's| 70483.03|     RUB| Russia|Unknown City|   medium|Premium Debit|        true|NFC Payment|    pos|85964acbaa0069047...|245.125.145.123|                 1|             false|               2|               true|{'num_transaction...|    true|\n",
      "| CUST_85741| 375212869369460|2024-10-26 02:01:...|       Restaurant|       casual|Olive Garden|  4020.81|     MXN| Mexico|Unknown City|   medium|Premium Debit|       false|    iOS App| mobile|b33ddec26766d6e0a...| 177.69.124.123|                 1|             false|               2|               true|{'num_transaction...|    true|\n",
      "| CUST_53580|5591249509963820|2024-10-26 02:01:...|           Retail|     physical|  Nike Store|271853.75|     NGN|Nigeria|Unknown City|   medium|Premium Debit|       false|     Chrome|    web|668496ff5bd55e46f...| 151.75.193.205|                 1|             false|               2|               true|{'num_transaction...|    true|\n",
      "| CUST_88616|5652165023745202|2024-10-26 02:01:...|       Restaurant|    fast_food|     Wendy's|  2754.67|     RUB| Russia|Unknown City|   medium|Premium Debit|       false|     Chrome|    web|d4b4bb2ae6a01b801...|    20.47.0.146|                 0|             false|               2|               true|{'num_transaction...|   false|\n",
      "+-----------+----------------+--------------------+-----------------+-------------+------------+---------+--------+-------+------------+---------+-------------+------------+-----------+-------+--------------------+---------------+------------------+------------------+----------------+-------------------+--------------------+--------+\n",
      "only showing top 5 rows\n",
      "\n"
     ]
    }
   ],
   "source": [
    "# read the streaming-ready data as a batch\n",
    "batch_df = spark.read.format(\"parquet\").load(\"/FileStore/tables/streaming_ready_data\")\n",
    "batch_df.show(5)  # display first 5 rows\n"
   ]
  },
  {
   "cell_type": "code",
   "execution_count": 0,
   "metadata": {
    "application/vnd.databricks.v1+cell": {
     "cellMetadata": {
      "byteLimit": 2048000,
      "rowLimit": 10000
     },
     "inputWidgets": {},
     "nuid": "df915f61-a018-49c3-a708-e82ee81ad502",
     "showTitle": false,
     "tableResultSettingsMap": {},
     "title": ""
    }
   },
   "outputs": [
    {
     "name": "stdout",
     "output_type": "stream",
     "text": [
      "+-----------+-----------+---------+-----------------+-------------+--------+------+--------+-------+----+---------+---------+------------+------+-------+------------------+----------+------------------+------------------+----------------+-------------------+------------------+--------+\n",
      "|customer_id|card_number|timestamp|merchant_category|merchant_type|merchant|amount|currency|country|city|city_size|card_type|card_present|device|channel|device_fingerprint|ip_address|distance_from_home|high_risk_merchant|transaction_hour|weekend_transaction|velocity_last_hour|is_fraud|\n",
      "+-----------+-----------+---------+-----------------+-------------+--------+------+--------+-------+----+---------+---------+------------+------+-------+------------------+----------+------------------+------------------+----------------+-------------------+------------------+--------+\n",
      "|          0|          0|        0|                0|            0|       0|     0|       0|      0|   0|        0|        0|           0|     0|      0|                 0|         0|                 0|                 0|               0|                  0|                 0|       0|\n",
      "+-----------+-----------+---------+-----------------+-------------+--------+------+--------+-------+----+---------+---------+------------+------+-------+------------------+----------+------------------+------------------+----------------+-------------------+------------------+--------+\n",
      "\n"
     ]
    }
   ],
   "source": [
    "from pyspark.sql.functions import col, when, count\n",
    "\n",
    "# count missing values for each column (works for all types)\n",
    "missing_values = batch_df.select([\n",
    "    count(when(col(c).isNull(), c)).alias(c) for c in batch_df.columns\n",
    "])\n",
    "missing_values.show()\n",
    "#no missing values\n"
   ]
  },
  {
   "cell_type": "code",
   "execution_count": 0,
   "metadata": {
    "application/vnd.databricks.v1+cell": {
     "cellMetadata": {
      "byteLimit": 2048000,
      "rowLimit": 10000
     },
     "inputWidgets": {},
     "nuid": "d902544f-8496-437c-b82e-1f74d4939a3a",
     "showTitle": false,
     "tableResultSettingsMap": {},
     "title": ""
    }
   },
   "outputs": [
    {
     "name": "stdout",
     "output_type": "stream",
     "text": [
      "Numerical Columns: ['amount', 'distance_from_home', 'transaction_hour']\n",
      "Categorical Columns: ['customer_id', 'card_number', 'timestamp', 'merchant_category', 'merchant_type', 'merchant', 'currency', 'country', 'city', 'city_size', 'card_type', 'device', 'channel', 'device_fingerprint', 'ip_address', 'velocity_last_hour']\n",
      "Boolean Columns: ['card_present', 'high_risk_merchant', 'weekend_transaction', 'is_fraud']\n"
     ]
    }
   ],
   "source": [
    "# extract numerical and categorical column names from the schema\n",
    "numerical_columns = [\n",
    "    field.name for field in schema.fields if isinstance(field.dataType, (DoubleType, LongType))\n",
    "]\n",
    "categorical_columns = [\n",
    "    field.name for field in schema.fields if isinstance(field.dataType, StringType)\n",
    "]\n",
    "boolean_columns = [\n",
    "    field.name for field in schema.fields if isinstance(field.dataType, BooleanType)\n",
    "]\n",
    "\n",
    "print(f\"Numerical Columns: {numerical_columns}\")\n",
    "print(f\"Categorical Columns: {categorical_columns}\")\n",
    "print(f\"Boolean Columns: {boolean_columns}\")\n"
   ]
  },
  {
   "cell_type": "code",
   "execution_count": 0,
   "metadata": {
    "application/vnd.databricks.v1+cell": {
     "cellMetadata": {
      "byteLimit": 2048000,
      "rowLimit": 10000
     },
     "inputWidgets": {},
     "nuid": "d82cc813-64fd-4b7a-b6be-1174f8e2cc98",
     "showTitle": false,
     "tableResultSettingsMap": {},
     "title": ""
    }
   },
   "outputs": [],
   "source": []
  },
  {
   "cell_type": "code",
   "execution_count": 0,
   "metadata": {
    "application/vnd.databricks.v1+cell": {
     "cellMetadata": {
      "byteLimit": 2048000,
      "rowLimit": 10000
     },
     "inputWidgets": {},
     "nuid": "9ab5b50f-b1fb-42a9-b8b9-d9d11c227fe7",
     "showTitle": false,
     "tableResultSettingsMap": {},
     "title": ""
    }
   },
   "outputs": [
    {
     "name": "stdout",
     "output_type": "stream",
     "text": [
      "+-----------+----------------+--------------------+-----------------+-------------+------------+---------+--------+-------+------------+---------+-------------+------------+-----------+-------+--------------------+---------------+------------------+------------------+----------------+-------------------+--------------------+--------+--------------------+\n",
      "|customer_id|     card_number|           timestamp|merchant_category|merchant_type|    merchant|   amount|currency|country|        city|city_size|    card_type|card_present|     device|channel|  device_fingerprint|     ip_address|distance_from_home|high_risk_merchant|transaction_hour|weekend_transaction|  velocity_last_hour|is_fraud|     scaled_features|\n",
      "+-----------+----------------+--------------------+-----------------+-------------+------------+---------+--------+-------+------------+---------+-------------+------------+-----------+-------+--------------------+---------------+------------------+------------------+----------------+-------------------+--------------------+--------+--------------------+\n",
      "| CUST_57883|6117860493072734|2024-10-26 02:01:...|       Restaurant|    fast_food|     Wendy's| 13946.09|     NGN|Nigeria|Unknown City|   medium|  Basic Debit|       false|    Firefox|    web|4123351f25f4d0ff7...|    44.80.0.137|                 1|             false|               2|               true|{'num_transaction...|    true|[-0.1913681317970...|\n",
      "| CUST_26453| 370797418011493|2024-10-26 02:01:...|           Retail|     physical|      Macy's| 70483.03|     RUB| Russia|Unknown City|   medium|Premium Debit|        true|NFC Payment|    pos|85964acbaa0069047...|245.125.145.123|                 1|             false|               2|               true|{'num_transaction...|    true|[0.12704905803441...|\n",
      "| CUST_85741| 375212869369460|2024-10-26 02:01:...|       Restaurant|       casual|Olive Garden|  4020.81|     MXN| Mexico|Unknown City|   medium|Premium Debit|       false|    iOS App| mobile|b33ddec26766d6e0a...| 177.69.124.123|                 1|             false|               2|               true|{'num_transaction...|    true|[-0.2472675095471...|\n",
      "| CUST_53580|5591249509963820|2024-10-26 02:01:...|           Retail|     physical|  Nike Store|271853.75|     NGN|Nigeria|Unknown City|   medium|Premium Debit|       false|     Chrome|    web|668496ff5bd55e46f...| 151.75.193.205|                 1|             false|               2|               true|{'num_transaction...|    true|[1.26117302683682...|\n",
      "| CUST_88616|5652165023745202|2024-10-26 02:01:...|       Restaurant|    fast_food|     Wendy's|  2754.67|     RUB| Russia|Unknown City|   medium|Premium Debit|       false|     Chrome|    web|d4b4bb2ae6a01b801...|    20.47.0.146|                 0|             false|               2|               true|{'num_transaction...|   false|[-0.2543984356413...|\n",
      "+-----------+----------------+--------------------+-----------------+-------------+------------+---------+--------+-------+------------+---------+-------------+------------+-----------+-------+--------------------+---------------+------------------+------------------+----------------+-------------------+--------------------+--------+--------------------+\n",
      "only showing top 5 rows\n",
      "\n"
     ]
    }
   ],
   "source": [
    "from pyspark.ml.feature import VectorAssembler, StandardScaler\n",
    "\n",
    "# assemble numerical columns into a single feature vector\n",
    "assembler = VectorAssembler(inputCols=numerical_columns, outputCol=\"numerical_features\")\n",
    "numerical_vector_df = assembler.transform(batch_df)\n",
    "\n",
    "# apply StandardScaler\n",
    "scaler = StandardScaler(inputCol=\"numerical_features\", outputCol=\"scaled_features\", withMean=True, withStd=True)\n",
    "scaler_model = scaler.fit(numerical_vector_df)\n",
    "scaled_df = scaler_model.transform(numerical_vector_df)\n",
    "\n",
    "# drop intermediate columns if needed\n",
    "scaled_df = scaled_df.drop(\"numerical_features\")\n",
    "scaled_df.show(5)\n"
   ]
  },
  {
   "cell_type": "code",
   "execution_count": 0,
   "metadata": {
    "application/vnd.databricks.v1+cell": {
     "cellMetadata": {
      "byteLimit": 2048000,
      "rowLimit": 10000
     },
     "inputWidgets": {},
     "nuid": "613efe19-83af-4cba-bb00-4ee2fc1b0b4b",
     "showTitle": false,
     "tableResultSettingsMap": {},
     "title": ""
    }
   },
   "outputs": [],
   "source": [
    "# split the data into training and test sets (80-20 split)\n",
    "train_df, test_df = scaled_df.randomSplit([0.8, 0.2], seed=42)\n"
   ]
  },
  {
   "cell_type": "code",
   "execution_count": 0,
   "metadata": {
    "application/vnd.databricks.v1+cell": {
     "cellMetadata": {
      "byteLimit": 2048000,
      "rowLimit": 10000
     },
     "inputWidgets": {},
     "nuid": "474f1bc3-2b1f-4e24-b9fa-97f259726996",
     "showTitle": false,
     "tableResultSettingsMap": {},
     "title": ""
    }
   },
   "outputs": [],
   "source": [
    "#%pip install sparkxgb\n"
   ]
  },
  {
   "cell_type": "code",
   "execution_count": 0,
   "metadata": {
    "application/vnd.databricks.v1+cell": {
     "cellMetadata": {
      "byteLimit": 2048000,
      "rowLimit": 10000
     },
     "inputWidgets": {},
     "nuid": "f51abf81-6f0d-4231-a789-7b29f92aef92",
     "showTitle": false,
     "tableResultSettingsMap": {},
     "title": ""
    }
   },
   "outputs": [],
   "source": [
    "#%pip install xgboost\n"
   ]
  },
  {
   "cell_type": "code",
   "execution_count": 0,
   "metadata": {
    "application/vnd.databricks.v1+cell": {
     "cellMetadata": {
      "byteLimit": 2048000,
      "rowLimit": 10000
     },
     "inputWidgets": {},
     "nuid": "2681d0c1-1f18-43b0-896e-162e05b2890e",
     "showTitle": false,
     "tableResultSettingsMap": {},
     "title": ""
    }
   },
   "outputs": [],
   "source": [
    "from pyspark.ml.classification import RandomForestClassifier\n",
    "from pyspark.ml.evaluation import MulticlassClassificationEvaluator\n"
   ]
  },
  {
   "cell_type": "code",
   "execution_count": 0,
   "metadata": {
    "application/vnd.databricks.v1+cell": {
     "cellMetadata": {
      "byteLimit": 2048000,
      "rowLimit": 10000
     },
     "inputWidgets": {},
     "nuid": "f5ce73b5-a33e-4d1e-a60d-335e423a718d",
     "showTitle": false,
     "tableResultSettingsMap": {},
     "title": ""
    }
   },
   "outputs": [],
   "source": [
    "# convert 'is_fraud' column from Boolean to Integer\n",
    "train_df = train_df.withColumn(\"is_fraud\", train_df[\"is_fraud\"].cast(\"int\"))\n",
    "test_df = test_df.withColumn(\"is_fraud\", test_df[\"is_fraud\"].cast(\"int\"))\n"
   ]
  },
  {
   "cell_type": "code",
   "execution_count": 0,
   "metadata": {
    "application/vnd.databricks.v1+cell": {
     "cellMetadata": {
      "byteLimit": 2048000,
      "rowLimit": 10000
     },
     "inputWidgets": {},
     "nuid": "28efe76c-df88-4227-a27a-bb6f6e769b81",
     "showTitle": false,
     "tableResultSettingsMap": {},
     "title": ""
    }
   },
   "outputs": [],
   "source": [
    "# define the Random Forest Classifier\n",
    "rf = RandomForestClassifier(\n",
    "    featuresCol=\"scaled_features\",  # The normalized features column\n",
    "    labelCol=\"is_fraud\",           # Target label column\n",
    "    predictionCol=\"prediction\",    # Output prediction column\n",
    "    numTrees=100,                  # Number of trees\n",
    "    maxDepth=5                     # Maximum depth of trees\n",
    ")\n",
    "\n",
    "# train the Random Forest Model\n",
    "rf_model = rf.fit(train_df)\n",
    "#takes 12 minutes\n"
   ]
  },
  {
   "cell_type": "code",
   "execution_count": 0,
   "metadata": {
    "application/vnd.databricks.v1+cell": {
     "cellMetadata": {
      "byteLimit": 2048000,
      "rowLimit": 10000
     },
     "inputWidgets": {},
     "nuid": "9508248f-2a63-457d-9658-b010caf81cfe",
     "showTitle": false,
     "tableResultSettingsMap": {},
     "title": ""
    }
   },
   "outputs": [
    {
     "name": "stdout",
     "output_type": "stream",
     "text": [
      "+--------------------+--------+----------+--------------------+\n",
      "|     scaled_features|is_fraud|prediction|         probability|\n",
      "+--------------------+--------+----------+--------------------+\n",
      "|[-0.0778816851148...|       1|       1.0|[0.12905519991216...|\n",
      "|[-0.2624085200934...|       0|       0.0|[0.98018368721852...|\n",
      "|[-0.2697649522777...|       1|       1.0|[0.06586876902662...|\n",
      "|[-0.2653078277877...|       0|       0.0|[0.98133285889451...|\n",
      "|[-0.2681975047274...|       1|       0.0|[0.73632228535888...|\n",
      "+--------------------+--------+----------+--------------------+\n",
      "only showing top 5 rows\n",
      "\n",
      "Test Set Accuracy = 0.8981612806032908\n"
     ]
    }
   ],
   "source": [
    "# make predictions on the test data\n",
    "predictions = rf_model.transform(test_df)\n",
    "\n",
    "# show predictions\n",
    "predictions.select(\"scaled_features\", \"is_fraud\", \"prediction\", \"probability\").show(5)\n",
    "\n",
    "# evaluate accuracy\n",
    "evaluator = MulticlassClassificationEvaluator(\n",
    "    labelCol=\"is_fraud\", \n",
    "    predictionCol=\"prediction\", \n",
    "    metricName=\"accuracy\"\n",
    ")\n",
    "accuracy = evaluator.evaluate(predictions)\n",
    "print(f\"Test Set Accuracy = {accuracy}\")"
   ]
  },
  {
   "cell_type": "code",
   "execution_count": 0,
   "metadata": {
    "application/vnd.databricks.v1+cell": {
     "cellMetadata": {
      "byteLimit": 2048000,
      "rowLimit": 10000
     },
     "inputWidgets": {},
     "nuid": "5f95577e-dc0c-44e1-955c-5e96a71c5513",
     "showTitle": false,
     "tableResultSettingsMap": {},
     "title": ""
    }
   },
   "outputs": [
    {
     "data": {
      "application/vnd.databricks.v1+bamboolib_hint": "{\"pd.DataFrames\": [], \"version\": \"0.0.1\"}",
      "text/plain": []
     },
     "metadata": {},
     "output_type": "display_data"
    },
    {
     "data": {
      "image/png": "[encoded data removed]"
     },
     "metadata": {
      "application/vnd.databricks.v1+output": {
       "addedWidgets": {},
       "arguments": {},
       "data": "data:image/png;base64,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\n",
       "datasetInfos": [],
       "metadata": {},
       "removedWidgets": [],
       "type": "image"
      }
     },
     "output_type": "display_data"
    }
   ],
   "source": [
    "from pyspark.sql.functions import col\n",
    "import pandas as pd\n",
    "import seaborn as sns\n",
    "import matplotlib.pyplot as plt\n",
    "\n",
    "# create confusion matrix\n",
    "confusion_matrix = predictions.groupBy(\"is_fraud\", \"prediction\").count().toPandas()\n",
    "\n",
    "# pivot the data for heatmap\n",
    "confusion_matrix_pivot = confusion_matrix.pivot(index=\"is_fraud\", columns=\"prediction\", values=\"count\").fillna(0)\n",
    "\n",
    "# plot confusion matrix\n",
    "plt.figure(figsize=(8, 6))\n",
    "sns.heatmap(confusion_matrix_pivot, annot=True, fmt=\"d\", cmap=\"Blues\")\n",
    "plt.xlabel(\"Predicted Label\")\n",
    "plt.ylabel(\"Actual Label\")\n",
    "plt.title(\"Confusion Matrix\")\n",
    "plt.show()\n"
   ]
  },
  {
   "cell_type": "code",
   "execution_count": 0,
   "metadata": {
    "application/vnd.databricks.v1+cell": {
     "cellMetadata": {
      "byteLimit": 2048000,
      "rowLimit": 10000
     },
     "inputWidgets": {},
     "nuid": "74fb8fac-f550-4b05-bcfa-58771f7bdcc4",
     "showTitle": false,
     "tableResultSettingsMap": {},
     "title": ""
    }
   },
   "outputs": [],
   "source": [
    "from pyspark.sql.functions import col, udf\n",
    "from pyspark.sql.types import DoubleType\n",
    "\n",
    "# define a UDF to extract the probability of fraud (second element in the array)\n",
    "extract_probability = udf(lambda prob: float(prob[1]), DoubleType())\n",
    "\n",
    "# add a new column for fraud probability\n",
    "predictions = predictions.withColumn(\"fraud_probability\", extract_probability(col(\"probability\")))\n"
   ]
  },
  {
   "cell_type": "code",
   "execution_count": 0,
   "metadata": {
    "application/vnd.databricks.v1+cell": {
     "cellMetadata": {
      "byteLimit": 2048000,
      "rowLimit": 10000
     },
     "inputWidgets": {},
     "nuid": "fa86ab72-3921-4a68-959f-e88a76f16c6a",
     "showTitle": false,
     "tableResultSettingsMap": {},
     "title": ""
    }
   },
   "outputs": [
    {
     "name": "stdout",
     "output_type": "stream",
     "text": [
      "+-------------------+--------+----------+\n",
      "|  fraud_probability|is_fraud|prediction|\n",
      "+-------------------+--------+----------+\n",
      "| 0.8709448000878373|       1|       1.0|\n",
      "|0.01981631278147209|       0|       0.0|\n",
      "| 0.9341312309733703|       1|       1.0|\n",
      "| 0.0186671411054881|       0|       0.0|\n",
      "|0.26367771464111434|       1|       0.0|\n",
      "+-------------------+--------+----------+\n",
      "only showing top 5 rows\n",
      "\n"
     ]
    }
   ],
   "source": [
    "predictions.select(\"fraud_probability\", \"is_fraud\", \"prediction\").show(5)\n"
   ]
  },
  {
   "cell_type": "code",
   "execution_count": 0,
   "metadata": {
    "application/vnd.databricks.v1+cell": {
     "cellMetadata": {
      "byteLimit": 2048000,
      "rowLimit": 10000
     },
     "inputWidgets": {},
     "nuid": "878ffe48-c456-4af1-a103-dc8bb4bbfb08",
     "showTitle": false,
     "tableResultSettingsMap": {},
     "title": ""
    }
   },
   "outputs": [
    {
     "data": {
      "image/png": "[encoded data removed]"
     },
     "metadata": {
      "application/vnd.databricks.v1+output": {
       "addedWidgets": {},
       "arguments": {},
       "data": "data:image/png;base64,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\n",
       "datasetInfos": [],
       "metadata": {},
       "removedWidgets": [],
       "type": "image"
      }
     },
     "output_type": "display_data"
    }
   ],
   "source": [
    "import seaborn as sns\n",
    "import matplotlib.pyplot as plt\n",
    "\n",
    "# convert predictions to Pandas\n",
    "predictions_pd = predictions.select(\"fraud_probability\", \"is_fraud\").toPandas()\n",
    "\n",
    "# plot fraud vs non-fraud probability distributions\n",
    "plt.figure(figsize=(10, 6))\n",
    "sns.histplot(data=predictions_pd, x=\"fraud_probability\", hue=\"is_fraud\", kde=True, bins=30, palette=\"Set2\")\n",
    "plt.title(\"Fraud vs Non-Fraud Probability Distribution\")\n",
    "plt.xlabel(\"Predicted Probability of Fraud\")\n",
    "plt.ylabel(\"Frequency\")\n",
    "plt.show()\n"
   ]
  },
  {
   "cell_type": "code",
   "execution_count": 0,
   "metadata": {
    "application/vnd.databricks.v1+cell": {
     "cellMetadata": {
      "byteLimit": 2048000,
      "rowLimit": 10000
     },
     "inputWidgets": {},
     "nuid": "30b54631-551b-438e-9a2c-1d32cb323a42",
     "showTitle": false,
     "tableResultSettingsMap": {},
     "title": ""
    }
   },
   "outputs": [
    {
     "data": {
      "image/png": "[encoded data removed]"
     },
     "metadata": {
      "application/vnd.databricks.v1+output": {
       "addedWidgets": {},
       "arguments": {},
       "data": "data:image/png;base64,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\n",
       "datasetInfos": [],
       "metadata": {},
       "removedWidgets": [],
       "type": "image"
      }
     },
     "output_type": "display_data"
    }
   ],
   "source": [
    "from sklearn.metrics import roc_curve, auc\n",
    "\n",
    "# extract true labels and probabilities\n",
    "y_true = predictions_pd[\"is_fraud\"]\n",
    "y_prob = predictions_pd[\"fraud_probability\"]\n",
    "\n",
    "# compute ROC curve and AUC\n",
    "fpr, tpr, thresholds = roc_curve(y_true, y_prob)\n",
    "roc_auc = auc(fpr, tpr)\n",
    "\n",
    "# plot the ROC curve\n",
    "plt.figure(figsize=(8, 6))\n",
    "plt.plot(fpr, tpr, color=\"darkorange\", lw=2, label=f\"ROC curve (AUC = {roc_auc:.2f})\")\n",
    "plt.plot([0, 1], [0, 1], color=\"navy\", lw=2, linestyle=\"--\")\n",
    "plt.xlabel(\"False Positive Rate\")\n",
    "plt.ylabel(\"True Positive Rate\")\n",
    "plt.title(\"Receiver Operating Characteristic (ROC) Curve\")\n",
    "plt.legend(loc=\"lower right\")\n",
    "plt.show()\n"
   ]
  }
 ],
 "metadata": {
  "application/vnd.databricks.v1+notebook": {
   "computePreferences": null,
   "dashboards": [],
   "environmentMetadata": {
    "base_environment": "",
    "client": "1"
   },
   "language": "python",
   "notebookMetadata": {
    "pythonIndentUnit": 4
   },
   "notebookName": "Fraud_Detection_Streaming",
   "widgets": {}
  },
  "language_info": {
   "name": "python"
  }
 },
 "nbformat": 4,
 "nbformat_minor": 0
}
